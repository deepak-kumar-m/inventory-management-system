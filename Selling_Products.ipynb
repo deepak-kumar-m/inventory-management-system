
import json

fd = open("products.json",'r')
r = fd.read()
fd.close()

products = json.loads(r)



print("Welcome to shop")


ui_prod = input("Enter the product Id: ")
ui_quan = int(input("Enter the quantity of the Product: "))

for i in products.keys():
    while ui_prod == i:
        if ui_quan <= products[i]['quan']:
            print("****************************************")
            print("             product:",products[ui_prod]['name'])
            print("               price:",products[ui_prod]['price'])
            print("         Expiry date:",products[ui_prod]['expiry'])
            print(" Manufacturing Brand:",products[ui_prod]['brand'])
            print("****************************************")
            print("----------BILLING DETAILS:---------- ")
            print("Total Amount: ",products[ui_prod]['price']*ui_quan) 
            print("Enjoy Your Day")
            print("Thank You. Visit Again")
            print("**********************************")
            products[ui_prod]["quan"] = products[ui_prod]["quan"] - ui_quan
        else:
            print("Sorry. Stock of product you enterd is: ",products[ui_prod]['quan'],"\nPlease accept our apologies for this inconvenience")
        break
if ui_prod not in products.keys():
   print("Sorry. No product found for ID: ",ui_prod,"\Please enter valid product ID")
    
    
js = json.dumps(products)

fd = open("products.json",'w')
fd.write(js)
fd.close()

## The sold items information is stored on sales.json
fd = open("sales.json",'r')
trans = fd.read()
fd.close()

sales = json.loads(trans)
num = len(sales)+1

sales[num] = {'prod':ui_prod, 'quan' : ui_quan, 'amount': products[ui_prod]['price'] * ui_quan}
sale = json.dumps(sales)

fd = open("sales.json",'w')
fd.write(sale)
fd.close()

products

# Update Inventory after products sold

sales = {1 : {'prod':ui_prod, 'quan':ui_quan, 'amount':products[ui_prod]['price']*ui_quan}}
sal = json.dumps(sales)

fd = open("sales.json",'w')
fd.write(sal)
fd.close()
